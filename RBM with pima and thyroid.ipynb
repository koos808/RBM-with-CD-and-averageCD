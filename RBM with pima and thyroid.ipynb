{
 "cells": [
  {
   "cell_type": "markdown",
   "metadata": {},
   "source": [
    "# 구진모(32130775)"
   ]
  },
  {
   "cell_type": "markdown",
   "metadata": {},
   "source": [
    "실제자료인 New Thyroid 및 Pima 자료를  이용하여 분류용 RBM의 두 가지 학습 알고리즘인 기존의 CD 알고리즘과 \n",
    "평균 CD 알고리즘의 분류성능을 비교하시오. 분류성능의 비교를 위해 정확도와 AUC를 사용하시오\n",
    "\n",
    "- 2개의 자료는 UCI 기계학습저장소 http://archive.ics.uci.edu/ml 에서 구하면 됩니다.\n",
    "\n",
    "- 모멘텀을 고려한 알고리즘을 사용하시오.\n",
    "\n",
    "- 각 자료를 임의로 3등분하여 2등분은 훈련자료로 1등분은 검정자료로 사용하시오."
   ]
  },
  {
   "cell_type": "markdown",
   "metadata": {},
   "source": [
    "### random_state = 32130775"
   ]
  },
  {
   "cell_type": "code",
   "execution_count": 5,
   "metadata": {
    "collapsed": true
   },
   "outputs": [],
   "source": [
    "import tensorflow as tf\n",
    "import numpy as np\n",
    "import pandas as pd\n",
    "import matplotlib.pyplot as plt\n",
    "from pandas import Series, DataFrame\n",
    "from imblearn.over_sampling import SMOTE\n",
    "from __future__ import print_function"
   ]
  },
  {
   "cell_type": "code",
   "execution_count": 6,
   "metadata": {
    "collapsed": true
   },
   "outputs": [],
   "source": [
    "from scipy.ndimage import convolve\n",
    "from sklearn import linear_model, datasets, metrics\n",
    "from sklearn.model_selection import train_test_split\n",
    "from sklearn.neural_network import BernoulliRBM\n",
    "from sklearn.pipeline import Pipeline\n",
    "from numpy.random import multinomial\n",
    "from scipy.special import expit\n",
    "from scipy.misc import logsumexp\n",
    "from sklearn.base import BaseEstimator, TransformerMixin\n",
    "from sklearn.utils import gen_even_slices, check_array\n",
    "from sklearn.utils.extmath import safe_sparse_dot\n",
    "from sklearn.utils.validation import check_is_fitted, NotFittedError\n",
    "from scipy.sparse import csr_matrix, issparse"
   ]
  },
  {
   "cell_type": "code",
   "execution_count": 4,
   "metadata": {
    "collapsed": true
   },
   "outputs": [],
   "source": [
    "New_Thyroid = pd.read_csv('C:/Users/wlsah/Desktop/New_Thyroid.csv')\n",
    "Pima = pd.read_csv('C:/Users/wlsah/Desktop/Pima.csv')"
   ]
  },
  {
   "cell_type": "code",
   "execution_count": 5,
   "metadata": {},
   "outputs": [
    {
     "data": {
      "text/html": [
       "<div>\n",
       "<style>\n",
       "    .dataframe thead tr:only-child th {\n",
       "        text-align: right;\n",
       "    }\n",
       "\n",
       "    .dataframe thead th {\n",
       "        text-align: left;\n",
       "    }\n",
       "\n",
       "    .dataframe tbody tr th {\n",
       "        vertical-align: top;\n",
       "    }\n",
       "</style>\n",
       "<table border=\"1\" class=\"dataframe\">\n",
       "  <thead>\n",
       "    <tr style=\"text-align: right;\">\n",
       "      <th></th>\n",
       "      <th>class</th>\n",
       "      <th>T3</th>\n",
       "      <th>Tsthyroxin</th>\n",
       "      <th>Tstrii</th>\n",
       "      <th>bTSH</th>\n",
       "      <th>madT</th>\n",
       "    </tr>\n",
       "  </thead>\n",
       "  <tbody>\n",
       "    <tr>\n",
       "      <th>0</th>\n",
       "      <td>1</td>\n",
       "      <td>107</td>\n",
       "      <td>10.1</td>\n",
       "      <td>2.2</td>\n",
       "      <td>0.9</td>\n",
       "      <td>2.7</td>\n",
       "    </tr>\n",
       "    <tr>\n",
       "      <th>1</th>\n",
       "      <td>1</td>\n",
       "      <td>113</td>\n",
       "      <td>9.9</td>\n",
       "      <td>3.1</td>\n",
       "      <td>2.0</td>\n",
       "      <td>5.9</td>\n",
       "    </tr>\n",
       "    <tr>\n",
       "      <th>2</th>\n",
       "      <td>1</td>\n",
       "      <td>127</td>\n",
       "      <td>12.9</td>\n",
       "      <td>2.4</td>\n",
       "      <td>1.4</td>\n",
       "      <td>0.6</td>\n",
       "    </tr>\n",
       "  </tbody>\n",
       "</table>\n",
       "</div>"
      ],
      "text/plain": [
       "   class   T3  Tsthyroxin  Tstrii  bTSH  madT\n",
       "0      1  107        10.1     2.2   0.9   2.7\n",
       "1      1  113         9.9     3.1   2.0   5.9\n",
       "2      1  127        12.9     2.4   1.4   0.6"
      ]
     },
     "execution_count": 5,
     "metadata": {},
     "output_type": "execute_result"
    }
   ],
   "source": [
    "New_Thyroid.head(3)"
   ]
  },
  {
   "cell_type": "code",
   "execution_count": 6,
   "metadata": {},
   "outputs": [
    {
     "data": {
      "text/html": [
       "<div>\n",
       "<style>\n",
       "    .dataframe thead tr:only-child th {\n",
       "        text-align: right;\n",
       "    }\n",
       "\n",
       "    .dataframe thead th {\n",
       "        text-align: left;\n",
       "    }\n",
       "\n",
       "    .dataframe tbody tr th {\n",
       "        vertical-align: top;\n",
       "    }\n",
       "</style>\n",
       "<table border=\"1\" class=\"dataframe\">\n",
       "  <thead>\n",
       "    <tr style=\"text-align: right;\">\n",
       "      <th></th>\n",
       "      <th>N.pregnat</th>\n",
       "      <th>Pgc2</th>\n",
       "      <th>Dbp</th>\n",
       "      <th>Tsft(mm)</th>\n",
       "      <th>insulin</th>\n",
       "      <th>Bodymass</th>\n",
       "      <th>Dpf</th>\n",
       "      <th>Age</th>\n",
       "      <th>class</th>\n",
       "    </tr>\n",
       "  </thead>\n",
       "  <tbody>\n",
       "    <tr>\n",
       "      <th>0</th>\n",
       "      <td>6</td>\n",
       "      <td>148</td>\n",
       "      <td>72</td>\n",
       "      <td>35</td>\n",
       "      <td>0</td>\n",
       "      <td>33.6</td>\n",
       "      <td>0.627</td>\n",
       "      <td>50</td>\n",
       "      <td>1</td>\n",
       "    </tr>\n",
       "    <tr>\n",
       "      <th>1</th>\n",
       "      <td>1</td>\n",
       "      <td>85</td>\n",
       "      <td>66</td>\n",
       "      <td>29</td>\n",
       "      <td>0</td>\n",
       "      <td>26.6</td>\n",
       "      <td>0.351</td>\n",
       "      <td>31</td>\n",
       "      <td>0</td>\n",
       "    </tr>\n",
       "    <tr>\n",
       "      <th>2</th>\n",
       "      <td>8</td>\n",
       "      <td>183</td>\n",
       "      <td>64</td>\n",
       "      <td>0</td>\n",
       "      <td>0</td>\n",
       "      <td>23.3</td>\n",
       "      <td>0.672</td>\n",
       "      <td>32</td>\n",
       "      <td>1</td>\n",
       "    </tr>\n",
       "  </tbody>\n",
       "</table>\n",
       "</div>"
      ],
      "text/plain": [
       "   N.pregnat  Pgc2  Dbp  Tsft(mm)  insulin  Bodymass    Dpf  Age  class\n",
       "0          6   148   72        35        0      33.6  0.627   50      1\n",
       "1          1    85   66        29        0      26.6  0.351   31      0\n",
       "2          8   183   64         0        0      23.3  0.672   32      1"
      ]
     },
     "execution_count": 6,
     "metadata": {},
     "output_type": "execute_result"
    }
   ],
   "source": [
    "Pima.head(3)"
   ]
  },
  {
   "cell_type": "code",
   "execution_count": 7,
   "metadata": {},
   "outputs": [
    {
     "name": "stdout",
     "output_type": "stream",
     "text": [
      "<class 'pandas.core.frame.DataFrame'>\n",
      "RangeIndex: 215 entries, 0 to 214\n",
      "Data columns (total 6 columns):\n",
      "class         215 non-null int64\n",
      "T3            215 non-null int64\n",
      "Tsthyroxin    215 non-null float64\n",
      "Tstrii        215 non-null float64\n",
      "bTSH          215 non-null float64\n",
      "madT          215 non-null float64\n",
      "dtypes: float64(4), int64(2)\n",
      "memory usage: 10.2 KB\n"
     ]
    }
   ],
   "source": [
    "New_Thyroid.info()"
   ]
  },
  {
   "cell_type": "code",
   "execution_count": 8,
   "metadata": {},
   "outputs": [
    {
     "name": "stdout",
     "output_type": "stream",
     "text": [
      "<class 'pandas.core.frame.DataFrame'>\n",
      "RangeIndex: 768 entries, 0 to 767\n",
      "Data columns (total 9 columns):\n",
      "N.pregnat    768 non-null int64\n",
      "Pgc2         768 non-null int64\n",
      "Dbp          768 non-null int64\n",
      "Tsft(mm)     768 non-null int64\n",
      "insulin      768 non-null int64\n",
      "Bodymass     768 non-null float64\n",
      "Dpf          768 non-null float64\n",
      "Age          768 non-null int64\n",
      "class        768 non-null int64\n",
      "dtypes: float64(2), int64(7)\n",
      "memory usage: 54.1 KB\n"
     ]
    }
   ],
   "source": [
    "Pima.info()"
   ]
  },
  {
   "cell_type": "markdown",
   "metadata": {},
   "source": [
    "### 그래프"
   ]
  },
  {
   "cell_type": "code",
   "execution_count": 9,
   "metadata": {},
   "outputs": [
    {
     "data": {
      "image/png": "[encoded data removed]",
      "text/plain": [
       "<matplotlib.figure.Figure at 0x200d4d5f828>"
      ]
     },
     "metadata": {},
     "output_type": "display_data"
    },
    {
     "data": {
      "image/png": "[encoded data removed]",
      "text/plain": [
       "<matplotlib.figure.Figure at 0x200d4facfd0>"
      ]
     },
     "metadata": {},
     "output_type": "display_data"
    }
   ],
   "source": [
    "#변수 그래프\n",
    "New_Thyroid.plot(figsize=(10,4)).legend(ncol=4,loc=4,frameon=True)\n",
    "plt.grid(True)\n",
    "plt.show()\n",
    "\n",
    "# 변수 그래프\n",
    "Pima.plot(figsize=(10,4)).legend(ncol=4,loc=4,frameon=True)\n",
    "plt.grid(True)\n",
    "plt.show()"
   ]
  },
  {
   "cell_type": "markdown",
   "metadata": {},
   "source": [
    "# RBM model"
   ]
  },
  {
   "cell_type": "code",
   "execution_count": 7,
   "metadata": {
    "collapsed": true
   },
   "outputs": [],
   "source": [
    "class RBM(BaseEstimator, TransformerMixin):\n",
    "    def __init__(self, n_components, n_iter=5, optimizer = 'pcd', learning_rate= 1e-2,\n",
    "                 momentum = 0.5, batch_size=10, l2_penalty = 1e-3, n_gibbs_samples = 1,\n",
    "                 compute_score = False, verbose = False,random_Stae=None):\n",
    "        self.n_components     = n_components\n",
    "        self.n_iter           = n_iter\n",
    "        self.random_state = 32130775\n",
    "        self.learning_rate    = learning_rate\n",
    "        self.momentum         = momentum\n",
    "        self.batch_size       = batch_size\n",
    "        self.l2_penalty       = l2_penalty\n",
    "        self.n_gibbs_samples  = n_gibbs_samples\n",
    "        self.verbose          = verbose  \n",
    "        if optimizer not in ['cd','pcd']:\n",
    "            raise ValueError(( \"Parameter optimizer can be either 'pcd' or \"\n",
    "                               \"'cd', observed : {0}\").format(optimizer))\n",
    "        self.optimizer        = optimizer\n",
    "        self.scores_          = []\n",
    "        self.compute_score    = compute_score\n",
    "\n",
    "\n",
    "    def _init_params(self,X):\n",
    "        ''' \n",
    "        Initialise parameters, parameter initialization is done using receipts\n",
    "        from [2]\n",
    "        '''\n",
    "        n_samples, n_features = X.shape\n",
    "        self.bias_hidden_  = np.zeros(self.n_components)\n",
    "        self.bias_visible_ = np.zeros(n_features) # size = (n_features,)\n",
    "        self.weights_      = np.random.normal(0,0.01,(self.n_components,n_features))\n",
    "\n",
    "\n",
    "\n",
    "    def _ph_v(self,V):\n",
    "        ''' Computes probability of hidden layer activation given visible layer'''\n",
    "        return expit(safe_sparse_dot(V,self.weights_.T,dense_output=True) + self.bias_hidden_)\n",
    "   \n",
    "   \n",
    "\n",
    "    def _pv_h(self,H):\n",
    "        ''' Computes probability of visible layer activation given hiddne layer'''\n",
    "        return expit(safe_sparse_dot(H,self.weights_, dense_output=True) + self.bias_visible_)\n",
    "\n",
    "\n",
    "\n",
    "    def _sample_visible(self,H):\n",
    "        ''' Samples from visible layer given hidden layer '''\n",
    "        return np.random.random([H.shape[0],self.bias_visible_.shape[0]]) < self._pv_h(H)\n",
    "     \n",
    "     \n",
    "\n",
    "    def _sample_hidden(self,V):\n",
    "        ''' Samples from hidden layer given visible layer '''\n",
    "        return np.random.random([V.shape[0],self.n_components]) < self._ph_v(V)\n",
    "        \n",
    "\n",
    "\n",
    "    def _gibbs_sampler(self,V,k):\n",
    "        '''\n",
    "        Runs Gibbs Sampler for k iterations\n",
    "        '''\n",
    "        # Due to conditional independence properties of RBM (see Hammsley-Clifford Theorem)\n",
    "        # we can run block gibbs sample (i.e. sample all hidden (or visible) neurons at once)\n",
    "        n_samples, n_features = V.shape\n",
    "        for i in range(k):\n",
    "            # Sample Hidden Layer | Visible Layer\n",
    "            H = self._sample_hidden(V)\n",
    "            \n",
    "            # Sample Visible Layer | Hidden Layer\n",
    "            V = self._sample_visible(H)\n",
    "        return V     \n",
    "        \n",
    "        \n",
    "        \n",
    "    def _mini_batch_compute(self, n_samples):\n",
    "        ''' \n",
    "        Compute equal sized minibatches ( indexes )\n",
    "        This method is taken from sklearn/neural_network/rbm.py\n",
    "        '''\n",
    "        n_batches = int(np.ceil(float(n_samples) / self.batch_size))\n",
    "        batch_slices = list(gen_even_slices(n_batches * self.batch_size,n_batches, n_samples))\n",
    "        return batch_slices  \n",
    "        \n",
    "        \n",
    "        \n",
    "    def _neg_free_energy(self,V):\n",
    "        ''' Compute -1 * free energy  (i.e. log p(V) * Z, where Z - normalizer) '''\n",
    "        # sum_j = 1:M b_j * Vj\n",
    "        fe  = safe_sparse_dot(V,self.bias_visible_,dense_output = True)\n",
    "        # sum_j=1:M  log( 1 + exp(sum_i=1:N Wij * Vj))\n",
    "        fe += np.log( 1 + np.exp( self.bias_hidden_ + \n",
    "                safe_sparse_dot(V,self.weights_.T))).sum(1)\n",
    "        return fe\n",
    "    \n",
    "        \n",
    "        \n",
    "    def _update_params(self,X,v):\n",
    "        n_samples = X.shape[0]\n",
    "        # P(H = 1 | V) - activation probability given sampled visible layer\n",
    "        ph_v  = self._ph_v(v)\n",
    "        # P(H = 1 | X) - activation probability given data\n",
    "        ph_x = self._ph_v(X)\n",
    "        \n",
    "        # compute gradients\n",
    "        grad_bias_hidden  = np.sum(ph_x,0) - np.sum(ph_v,0)\n",
    "        # since input can be sparse use np.asarray(:).squeeze() to transform it\n",
    "        grad_bias_visible = np.asarray(X.sum(0)).squeeze() - np.asarray(v.sum(0)).squeeze()\n",
    "        grad_weights      = safe_sparse_dot(ph_x.T, X, True) - safe_sparse_dot(ph_v.T, v, True)\n",
    "        \n",
    "        # L2 penalty is not applied to bias terms! ( for regularization and faster mixing )\n",
    "        grad_weights     -= self.l2_penalty * self.weights_\n",
    "        \n",
    "        # normalise gradients by sample size\n",
    "        grad_bias_hidden  = grad_bias_hidden / n_samples \n",
    "        grad_bias_visible = grad_bias_visible / n_samples\n",
    "        grad_weights      = grad_weights / n_samples\n",
    "        \n",
    "        # update learning rate (gradually decreasing it)\n",
    "        # this is heuristics , we assume every 2 calls to _fit is equivalent to\n",
    "        # one epoch\n",
    "        lr = 1 / ( 1. / self.learning_rate + float(self.t_) / 5 )\n",
    "        \n",
    "        # velocity for momentum updates\n",
    "        self.velocity_h_bias_  = self.momentum * self.velocity_h_bias_ + lr * grad_bias_hidden\n",
    "        self.velocity_v_bias_  = self.momentum * self.velocity_v_bias_ + lr * grad_bias_visible\n",
    "        self.velocity_weights_ = self.momentum * self.velocity_weights_+ lr * grad_weights\n",
    "           \n",
    "        # update parameters ( note we do gradient ASCENT !)            \n",
    "        self.weights_      = self.weights_ + self.velocity_weights_ \n",
    "        self.bias_hidden_  = self.bias_hidden_ + self.velocity_h_bias_\n",
    "        self.bias_visible_ = self.bias_visible_ + self.velocity_v_bias_  \n",
    "     \n",
    "\n",
    "    def _fit(self, X):\n",
    "        ''' Updates model for single batch '''\n",
    "        \n",
    "        n_samples, n_features = X.shape\n",
    "        \n",
    "        # number of previous updates (used for decreasing learning rate)\n",
    "        if not hasattr(self,'t_'):\n",
    "            self.t_ = 0\n",
    "            # initailise these variables during first call to _fit method\n",
    "            self.velocity_h_bias_  = 0\n",
    "            self.velocity_v_bias_  = 0\n",
    "            self.velocity_weights_ = 0\n",
    "        self.t_ += 1\n",
    "               \n",
    "        # Contrastive Divergence\n",
    "        if self.optimizer == 'cd':\n",
    "            v    = self._gibbs_sampler(X,self.n_gibbs_samples)\n",
    "            \n",
    "        # Persistent Contrastive Divergence (do not reinitialise chain after each update)\n",
    "        else:\n",
    "            # initialise persistent chain in case it was not done before.\n",
    "            # Persistent chain is independent of training data, so we initialise\n",
    "            # chain randomly and then continue running during whole fitting process\n",
    "            if not hasattr(self,'persistent_visible_'):\n",
    "                initial_hidden           = np.zeros([self.batch_size,self.n_components])\n",
    "                self.persistent_visible_ = self._sample_visible(initial_hidden)\n",
    "                                \n",
    "            # continue sampling from persistent chain\n",
    "            v    = self._gibbs_sampler(self.persistent_visible_, self.n_gibbs_samples)\n",
    "            \n",
    "            # save last sample (to continue on next iteration)\n",
    "            self.persistent_visible_ = v\n",
    "            \n",
    "            # handle the case when one of minibatches is smaller\n",
    "            if n_samples < self.persistent_visible_.shape[0]:\n",
    "                v = v[np.random.randint(0,self.batch_size,n_samples),:]\n",
    "                \n",
    "        self._update_params(X,v)\n",
    "        \n",
    "        \n",
    "        \n",
    "    def partial_fit(self,X):\n",
    "        X = check_array(X, accept_sparse = ['csr'])\n",
    "        \n",
    "        # in case nothing was fitted before, initialize params\n",
    "        if not hasattr(self,'weights_'):\n",
    "            self._init_params(X)\n",
    "        \n",
    "        # separate dataset into mini-batches\n",
    "        mini_batch_slices = self._mini_batch_compute(X.shape[0])\n",
    "        \n",
    "        for mini_batch in mini_batch_slices:\n",
    "            # is there better way for sparse matrices (slicing is too \n",
    "            # expensive for csr_matrix )\n",
    "            self._fit(X[mini_batch])\n",
    "\n",
    "        # compute stochastic approximation to pseudo-loglikelihood\n",
    "        if self.compute_score:\n",
    "            self.scores_.append(self.pseudo_loglikelihood(X))\n",
    "        if self.verbose:\n",
    "            if self.compute_score:\n",
    "                print((\"[RBM] Partial Fit Completed, pseudo-loglikelihood \"\n",
    "                      \"is {0}\")).format(self.scores_[-1])\n",
    "            else:\n",
    "                print(\"[RBM] Partial Fit Completed\")\n",
    "            \n",
    "        return self\n",
    "        \n",
    "        \n",
    "        \n",
    "    def fit(self,X):\n",
    "        X = check_array(X, accept_sparse = ['csr'])\n",
    "        \n",
    "        # initialise paramters ( all parameter initialization is done as it is \n",
    "        # described in [2])\n",
    "        self._init_params(X)\n",
    "        \n",
    "        # separate dataset into minibatches\n",
    "        mini_batch_slices = self._mini_batch_compute(X.shape[0])\n",
    "        \n",
    "        for epoch in range(self.n_iter):\n",
    "            for mini_batch in mini_batch_slices:\n",
    "                self._fit(X[mini_batch])\n",
    "             \n",
    "            # compute stochastic approximation to pseudo-loglikelihood\n",
    "            if self.compute_score:\n",
    "                self.scores_.append(self.pseudo_loglikelihood(X))\n",
    "            if self.verbose:\n",
    "                if self.compute_score:\n",
    "                    print(\"[RBM] Epoch {0}, pseudo-loglikelihood {1} \".format(epoch,self.scores_[-1]))\n",
    "                else:\n",
    "                    print(\"[RBM] Epoch {0}\".format(epoch))\n",
    "        return self\n",
    "        \n",
    "       \n",
    "    def transform(self,X):\n",
    "        check_is_fitted(self,'weights_')\n",
    "        X = check_array(X, accept_sparse = ['csr'])  \n",
    "        ph_v =  self._ph_v(X)\n",
    "        return ph_v\n",
    "       \n",
    "    def reconstruct(self,H):\n",
    "        check_is_fitted(self,'weights_')\n",
    "        H = check_array(H,accept_sparse=['csr'])\n",
    "        H = (H >= 0.5) * 1\n",
    "        V = self._pv_h(H)\n",
    "        return V\n",
    "        \n",
    "        \n",
    "    def pseudo_loglikelihood(self,v):\n",
    "        check_is_fitted(self,'weights_')\n",
    "        v = check_array(v,accept_sparse=['csr'])\n",
    "        \n",
    "        # number of samples, and number of visible units per sample\n",
    "        n_sample, n_vis = v.shape\n",
    "        # binarise Visisble\n",
    "        V = (v >= 0.5) * 1 \n",
    "                \n",
    "        # the way to flip bits is taken from here (see score_sample method):\n",
    "        # https://github.com/scikit-learn/scikit-learn/blob/master/sklearn/neural_network/rbm.py\n",
    "        \n",
    "        # randomly choose parts bit that will be flipped \n",
    "        flip_index = (np.arange(V.shape[0]),\n",
    "                      np.random.randint(0, V.shape[1], V.shape[0]))\n",
    "        if issparse(V):\n",
    "            data = -2 * V[flip_index] + 1\n",
    "            V_ = V + csr_matrix((data.A.ravel(), flip_index), shape=V.shape)\n",
    "        else:\n",
    "            V_ = V.copy()\n",
    "            V_[flip_index] = 1 - V_[flip_index]\n",
    "        \n",
    "        fe_original = self._neg_free_energy(V) \n",
    "        fe_flipped  = self._neg_free_energy(V_)\n",
    "\n",
    "        # approximate sum_v_{j} exp ( - E(v,h) ), where j is index of flipped \n",
    "        # visible unit\n",
    "        fe_total    = np.logaddexp(fe_original,fe_flipped)\n",
    "        # pseudo-loglikelihood per sample\n",
    "        pll         = n_vis * ( fe_original - fe_total )\n",
    "        return  np.mean( pll )"
   ]
  },
  {
   "cell_type": "markdown",
   "metadata": {},
   "source": [
    "# New_Thyroid"
   ]
  },
  {
   "cell_type": "code",
   "execution_count": 12,
   "metadata": {},
   "outputs": [
    {
     "data": {
      "text/plain": [
       "Index(['class', 'T3', 'Tsthyroxin', 'Tstrii', 'bTSH', 'madT'], dtype='object')"
      ]
     },
     "execution_count": 12,
     "metadata": {},
     "output_type": "execute_result"
    }
   ],
   "source": [
    "New_Thyroid.columns"
   ]
  },
  {
   "cell_type": "code",
   "execution_count": 13,
   "metadata": {},
   "outputs": [
    {
     "name": "stdout",
     "output_type": "stream",
     "text": [
      "<class 'pandas.core.frame.DataFrame'>\n",
      "RangeIndex: 215 entries, 0 to 214\n",
      "Data columns (total 6 columns):\n",
      "class         215 non-null int64\n",
      "T3            215 non-null int64\n",
      "Tsthyroxin    215 non-null float64\n",
      "Tstrii        215 non-null float64\n",
      "bTSH          215 non-null float64\n",
      "madT          215 non-null float64\n",
      "dtypes: float64(4), int64(2)\n",
      "memory usage: 10.2 KB\n"
     ]
    }
   ],
   "source": [
    "New_Thyroid.info()"
   ]
  },
  {
   "cell_type": "code",
   "execution_count": 14,
   "metadata": {
    "collapsed": true
   },
   "outputs": [],
   "source": [
    "X = DataFrame(New_Thyroid,columns=['T3', 'Tsthyroxin', 'Tstrii', 'bTSH', 'madT'])\n",
    "X = np.array(X)\n",
    "Y = np.array(New_Thyroid['class'])\n",
    "Y = Y.astype(int) # 정수형으로 변환 ,1.0=>1"
   ]
  },
  {
   "cell_type": "markdown",
   "metadata": {},
   "source": [
    "## New_Thyroid - smote : recommand"
   ]
  },
  {
   "cell_type": "code",
   "execution_count": 15,
   "metadata": {
    "collapsed": true
   },
   "outputs": [],
   "source": [
    "sm = SMOTE(random_state=32130775) #: knn응용\n",
    "x_sm, y_sm = sm.fit_sample(X,Y) # fit_sample => 오버샘플링"
   ]
  },
  {
   "cell_type": "code",
   "execution_count": 16,
   "metadata": {
    "collapsed": true
   },
   "outputs": [],
   "source": [
    "tr_X, te_X, tr_Y, te_Y = train_test_split(x_sm, y_sm, test_size=0.33, random_state=32130775) \n",
    "#test_size => train : test = 2 : 1."
   ]
  },
  {
   "cell_type": "markdown",
   "metadata": {},
   "source": [
    "### NOT SMOTE : not recommand"
   ]
  },
  {
   "cell_type": "code",
   "execution_count": null,
   "metadata": {
    "collapsed": true
   },
   "outputs": [],
   "source": [
    "tr_ind = np.random.choice(int(215 * 0.7)+1, int(215 * 0.7),replace=False)  # same as sample function in R\n",
    "tr_X = X[tr_ind]\n",
    "te_X = X[-tr_ind]\n",
    "tr_Y = Y[tr_ind]\n",
    "te_Y = Y[-tr_ind]"
   ]
  },
  {
   "cell_type": "markdown",
   "metadata": {},
   "source": [
    "## New_Thyroid -- RBM classification"
   ]
  },
  {
   "cell_type": "code",
   "execution_count": 2,
   "metadata": {},
   "outputs": [
    {
     "ename": "NameError",
     "evalue": "name 'linear_model' is not defined",
     "output_type": "error",
     "traceback": [
      "\u001b[1;31m---------------------------------------------------------------------------\u001b[0m",
      "\u001b[1;31mNameError\u001b[0m                                 Traceback (most recent call last)",
      "\u001b[1;32m<ipython-input-2-38e4d2732219>\u001b[0m in \u001b[0;36m<module>\u001b[1;34m()\u001b[0m\n\u001b[1;32m----> 1\u001b[1;33m \u001b[0mlogistic\u001b[0m \u001b[1;33m=\u001b[0m \u001b[0mlinear_model\u001b[0m\u001b[1;33m.\u001b[0m\u001b[0mLogisticRegression\u001b[0m\u001b[1;33m(\u001b[0m\u001b[1;33m)\u001b[0m\u001b[1;33m\u001b[0m\u001b[0m\n\u001b[0m\u001b[0;32m      2\u001b[0m \u001b[0mrbm\u001b[0m \u001b[1;33m=\u001b[0m \u001b[0mRBM\u001b[0m\u001b[1;33m(\u001b[0m\u001b[0mrandom_state\u001b[0m\u001b[1;33m=\u001b[0m\u001b[1;36m32130775\u001b[0m\u001b[1;33m,\u001b[0m \u001b[0mverbose\u001b[0m\u001b[1;33m=\u001b[0m\u001b[1;32mTrue\u001b[0m\u001b[1;33m)\u001b[0m\u001b[1;33m\u001b[0m\u001b[0m\n\u001b[0;32m      3\u001b[0m \u001b[0mclassifier\u001b[0m \u001b[1;33m=\u001b[0m \u001b[0mPipeline\u001b[0m\u001b[1;33m(\u001b[0m\u001b[0msteps\u001b[0m\u001b[1;33m=\u001b[0m\u001b[1;33m[\u001b[0m\u001b[1;33m(\u001b[0m\u001b[1;34m'rbm'\u001b[0m\u001b[1;33m,\u001b[0m \u001b[0mrbm\u001b[0m\u001b[1;33m)\u001b[0m\u001b[1;33m,\u001b[0m \u001b[1;33m(\u001b[0m\u001b[1;34m'logistic'\u001b[0m\u001b[1;33m,\u001b[0m \u001b[0mlogistic\u001b[0m\u001b[1;33m)\u001b[0m\u001b[1;33m]\u001b[0m\u001b[1;33m)\u001b[0m\u001b[1;33m\u001b[0m\u001b[0m\n",
      "\u001b[1;31mNameError\u001b[0m: name 'linear_model' is not defined"
     ]
    }
   ],
   "source": [
    "logistic = linear_model.LogisticRegression()\n",
    "rbm = RBM(random_state=32130775, verbose=True)\n",
    "classifier = Pipeline(steps=[('rbm', rbm), ('logistic', logistic)])"
   ]
  },
  {
   "cell_type": "markdown",
   "metadata": {},
   "source": [
    "### rbm.momentum :0.7"
   ]
  },
  {
   "cell_type": "code",
   "execution_count": 18,
   "metadata": {},
   "outputs": [
    {
     "name": "stdout",
     "output_type": "stream",
     "text": [
      "[BernoulliRBM] Iteration 1, pseudo-likelihood = -4.22, time = 0.01s\n",
      "[BernoulliRBM] Iteration 2, pseudo-likelihood = -8.36, time = 0.01s\n",
      "[BernoulliRBM] Iteration 3, pseudo-likelihood = -12.53, time = 0.00s\n",
      "[BernoulliRBM] Iteration 4, pseudo-likelihood = -16.70, time = 0.00s\n",
      "[BernoulliRBM] Iteration 5, pseudo-likelihood = -20.88, time = 0.00s\n",
      "[BernoulliRBM] Iteration 6, pseudo-likelihood = -25.06, time = 0.01s\n",
      "[BernoulliRBM] Iteration 7, pseudo-likelihood = -29.24, time = 0.00s\n",
      "[BernoulliRBM] Iteration 8, pseudo-likelihood = -33.42, time = 0.00s\n",
      "[BernoulliRBM] Iteration 9, pseudo-likelihood = -37.60, time = 0.00s\n",
      "[BernoulliRBM] Iteration 10, pseudo-likelihood = -41.79, time = 0.00s\n",
      "[BernoulliRBM] Iteration 11, pseudo-likelihood = -45.97, time = 0.00s\n",
      "[BernoulliRBM] Iteration 12, pseudo-likelihood = -50.15, time = 0.00s\n",
      "[BernoulliRBM] Iteration 13, pseudo-likelihood = -54.33, time = 0.00s\n",
      "[BernoulliRBM] Iteration 14, pseudo-likelihood = -58.52, time = 0.01s\n",
      "[BernoulliRBM] Iteration 15, pseudo-likelihood = -62.70, time = 0.01s\n",
      "[BernoulliRBM] Iteration 16, pseudo-likelihood = -66.88, time = 0.00s\n",
      "[BernoulliRBM] Iteration 17, pseudo-likelihood = -71.06, time = 0.01s\n",
      "[BernoulliRBM] Iteration 18, pseudo-likelihood = -75.25, time = 0.01s\n",
      "[BernoulliRBM] Iteration 19, pseudo-likelihood = -79.43, time = 0.01s\n",
      "[BernoulliRBM] Iteration 20, pseudo-likelihood = -83.61, time = 0.01s\n",
      "Logistic regression using logistic RBM features:\n",
      "             precision    recall  f1-score   support\n",
      "\n",
      "          1       0.98      1.00      0.99        52\n",
      "          2       1.00      1.00      1.00        42\n",
      "          3       1.00      0.98      0.99        55\n",
      "\n",
      "avg / total       0.99      0.99      0.99       149\n",
      "\n",
      "\n"
     ]
    }
   ],
   "source": [
    "rbm.learning_rate = 0.01\n",
    "rbm.n_iter = 20\n",
    "# More components tend to give better prediction performance, but larger\n",
    "# fitting time\n",
    "rbm.n_components = 7\n",
    "rbm.momentum=0.7\n",
    "logistic.C = 6000\n",
    "\n",
    "# Training RBM-Logistic Pipeline\n",
    "classifier.fit(tr_X, tr_Y)\n",
    "\n",
    "# Training Logistic regression\n",
    "logistic_classifier = linear_model.LogisticRegression(C=1000)\n",
    "logistic_classifier.fit(tr_X, tr_Y)\n",
    "\n",
    "# #############################################################################\n",
    "# Evaluation\n",
    "print(\"Logistic regression using logistic RBM features:\\n%s\\n\" % (\n",
    "    metrics.classification_report(te_Y,logistic_classifier.predict(te_X))))"
   ]
  },
  {
   "cell_type": "markdown",
   "metadata": {},
   "source": [
    "## 문제점\n",
    "New_Thyroid data자체가 좋지 않다.class 2와 3가 너무 적어 smote를 시켰는데도 불구하고 precision이 1.00으로 나오게 된다. class 2와 3을 추가 생성할 필요가 있다.\n",
    "TRAIN,TEST 데이터를 나눌때 using smote와 not using smote를 비교해 보면 using smote가 적합하다."
   ]
  },
  {
   "cell_type": "markdown",
   "metadata": {},
   "source": [
    "## Pima"
   ]
  },
  {
   "cell_type": "code",
   "execution_count": 19,
   "metadata": {
    "collapsed": true
   },
   "outputs": [],
   "source": [
    "X = DataFrame(Pima,columns=['N.pregnat', 'Pgc2', 'Dbp', 'Tsft(mm)', 'insulin', 'Bodymass', 'Dpf','Age'])\n",
    "X = np.array(X)\n",
    "Y = np.array(Pima['class'])\n",
    "Y = Y.astype(int) # 정수형으로 변환 ,1.0=>1"
   ]
  },
  {
   "cell_type": "markdown",
   "metadata": {},
   "source": [
    "## Pima - Using SMOTE : Not Recommand"
   ]
  },
  {
   "cell_type": "code",
   "execution_count": null,
   "metadata": {
    "collapsed": true
   },
   "outputs": [],
   "source": [
    "sm = SMOTE(random_state=32130775) #: knn응용\n",
    "x_sm, y_sm = sm.fit_sample(X,Y) # fit_sample => 오버샘플링"
   ]
  },
  {
   "cell_type": "code",
   "execution_count": null,
   "metadata": {
    "collapsed": true
   },
   "outputs": [],
   "source": [
    "tr_X, te_X, tr_Y, te_Y = train_test_split(x_sm, y_sm, test_size=0.33, random_state=32130775) \n",
    "#test_size => train : test = 2 : 1."
   ]
  },
  {
   "cell_type": "markdown",
   "metadata": {},
   "source": [
    "### NOT Using SMOTE : recommand"
   ]
  },
  {
   "cell_type": "code",
   "execution_count": 20,
   "metadata": {
    "collapsed": true
   },
   "outputs": [],
   "source": [
    "tr_ind = np.random.choice(int(768 * 0.7)+1, int(768 * 0.7),replace=False)  # same as sample function in R\n",
    "tr_X = X[tr_ind]\n",
    "te_X = X[-tr_ind]\n",
    "tr_Y = Y[tr_ind]\n",
    "te_Y = Y[-tr_ind]"
   ]
  },
  {
   "cell_type": "markdown",
   "metadata": {},
   "source": [
    "## Pima -- RBM classification"
   ]
  },
  {
   "cell_type": "code",
   "execution_count": 21,
   "metadata": {
    "collapsed": true
   },
   "outputs": [],
   "source": [
    "logistic = linear_model.LogisticRegression()\n",
    "rbm = BernoulliRBM(random_state=32130775, verbose=True)\n",
    "classifier = Pipeline(steps=[('rbm', rbm), ('logistic', logistic)])"
   ]
  },
  {
   "cell_type": "markdown",
   "metadata": {},
   "source": [
    "### rbm.momnetum=0.7"
   ]
  },
  {
   "cell_type": "code",
   "execution_count": 22,
   "metadata": {},
   "outputs": [
    {
     "name": "stdout",
     "output_type": "stream",
     "text": [
      "[BernoulliRBM] Iteration 1, pseudo-likelihood = -209.49, time = 0.01s\n",
      "[BernoulliRBM] Iteration 2, pseudo-likelihood = -421.51, time = 0.01s\n",
      "[BernoulliRBM] Iteration 3, pseudo-likelihood = -633.52, time = 0.01s\n",
      "[BernoulliRBM] Iteration 4, pseudo-likelihood = -845.54, time = 0.01s\n",
      "[BernoulliRBM] Iteration 5, pseudo-likelihood = -1057.55, time = 0.01s\n",
      "[BernoulliRBM] Iteration 6, pseudo-likelihood = -1269.57, time = 0.01s\n",
      "[BernoulliRBM] Iteration 7, pseudo-likelihood = -1481.58, time = 0.01s\n",
      "[BernoulliRBM] Iteration 8, pseudo-likelihood = -1693.60, time = 0.01s\n",
      "[BernoulliRBM] Iteration 9, pseudo-likelihood = -1905.62, time = 0.01s\n",
      "[BernoulliRBM] Iteration 10, pseudo-likelihood = -2117.63, time = 0.01s\n",
      "[BernoulliRBM] Iteration 11, pseudo-likelihood = -2329.65, time = 0.01s\n",
      "[BernoulliRBM] Iteration 12, pseudo-likelihood = -2541.66, time = 0.01s\n",
      "[BernoulliRBM] Iteration 13, pseudo-likelihood = -2753.68, time = 0.01s\n",
      "[BernoulliRBM] Iteration 14, pseudo-likelihood = -2965.69, time = 0.01s\n",
      "[BernoulliRBM] Iteration 15, pseudo-likelihood = -3177.71, time = 0.01s\n",
      "[BernoulliRBM] Iteration 16, pseudo-likelihood = -3389.72, time = 0.01s\n",
      "[BernoulliRBM] Iteration 17, pseudo-likelihood = -3601.74, time = 0.01s\n",
      "[BernoulliRBM] Iteration 18, pseudo-likelihood = -3813.76, time = 0.01s\n",
      "[BernoulliRBM] Iteration 19, pseudo-likelihood = -4025.77, time = 0.01s\n",
      "[BernoulliRBM] Iteration 20, pseudo-likelihood = -4237.79, time = 0.01s\n",
      "Logistic regression using logistic RBM features:\n",
      "             precision    recall  f1-score   support\n",
      "\n",
      "          0       0.80      0.91      0.85       356\n",
      "          1       0.75      0.55      0.64       181\n",
      "\n",
      "avg / total       0.78      0.79      0.78       537\n",
      "\n",
      "\n"
     ]
    }
   ],
   "source": [
    "rbm.learning_rate = 0.01\n",
    "rbm.n_iter = 20\n",
    "# More components tend to give better prediction performance, but larger\n",
    "# fitting time\n",
    "rbm.n_components = 7\n",
    "rbm.momentum=0.7\n",
    "logistic.C = 600\n",
    "\n",
    "# Training RBM-Logistic Pipeline\n",
    "classifier.fit(tr_X, tr_Y)\n",
    "\n",
    "# Training Logistic regression\n",
    "logistic_classifier = linear_model.LogisticRegression(C=100)\n",
    "logistic_classifier.fit(tr_X, tr_Y)\n",
    "\n",
    "# #############################################################################\n",
    "# Evaluation\n",
    "print(\"Logistic regression using logistic RBM features:\\n%s\\n\" % (\n",
    "    metrics.classification_report(te_Y,logistic_classifier.predict(te_X))))"
   ]
  },
  {
   "cell_type": "markdown",
   "metadata": {},
   "source": [
    "##### SMOTE 기법을 사용하지 않았을 때 분류를 더 적절하게 한다.\n",
    "\n",
    "Using SMOTE : avg precision = 0.75\n",
    "NOT Using SMOTE : abg precision = 0.78"
   ]
  },
  {
   "cell_type": "markdown",
   "metadata": {},
   "source": [
    "### (추가)CTG DATA 이용했을 때 분류 결과."
   ]
  },
  {
   "cell_type": "code",
   "execution_count": 23,
   "metadata": {
    "collapsed": true
   },
   "outputs": [],
   "source": [
    "ctg = pd.read_csv('C:/Users/wlsah/Desktop/CTG_raw.csv')"
   ]
  },
  {
   "cell_type": "code",
   "execution_count": 24,
   "metadata": {},
   "outputs": [
    {
     "data": {
      "text/plain": [
       "Index(['LB', 'AC', 'FM', 'UC', 'ASTV', 'MSTV', 'ALTV', 'MLTV', 'DL', 'DS',\n",
       "       'DP', 'Width', 'Min', 'Max', 'Nmax', 'Nzeros', 'Mode', 'Mean', 'Median',\n",
       "       'Variance', 'Tendency', 'NSP'],\n",
       "      dtype='object')"
      ]
     },
     "execution_count": 24,
     "metadata": {},
     "output_type": "execute_result"
    }
   ],
   "source": [
    "ctg.columns"
   ]
  },
  {
   "cell_type": "code",
   "execution_count": 25,
   "metadata": {},
   "outputs": [
    {
     "name": "stdout",
     "output_type": "stream",
     "text": [
      "<class 'pandas.core.frame.DataFrame'>\n",
      "RangeIndex: 2126 entries, 0 to 2125\n",
      "Data columns (total 22 columns):\n",
      "LB          2126 non-null int64\n",
      "AC          2126 non-null int64\n",
      "FM          2126 non-null int64\n",
      "UC          2126 non-null int64\n",
      "ASTV        2126 non-null int64\n",
      "MSTV        2126 non-null float64\n",
      "ALTV        2126 non-null int64\n",
      "MLTV        2126 non-null float64\n",
      "DL          2126 non-null int64\n",
      "DS          2126 non-null int64\n",
      "DP          2126 non-null int64\n",
      "Width       2126 non-null int64\n",
      "Min         2126 non-null int64\n",
      "Max         2126 non-null int64\n",
      "Nmax        2126 non-null int64\n",
      "Nzeros      2126 non-null int64\n",
      "Mode        2126 non-null int64\n",
      "Mean        2126 non-null int64\n",
      "Median      2126 non-null int64\n",
      "Variance    2126 non-null int64\n",
      "Tendency    2126 non-null int64\n",
      "NSP         2126 non-null int64\n",
      "dtypes: float64(2), int64(20)\n",
      "memory usage: 365.5 KB\n"
     ]
    }
   ],
   "source": [
    "ctg.info()"
   ]
  },
  {
   "cell_type": "code",
   "execution_count": 26,
   "metadata": {
    "collapsed": true
   },
   "outputs": [],
   "source": [
    "X = DataFrame(ctg,columns=['LB', 'AC', 'FM', 'UC', 'ASTV', 'MSTV', 'ALTV', 'MLTV', 'DL', 'DS',\n",
    "       'DP', 'Width', 'Min', 'Max', 'Nmax', 'Nzeros', 'Mode', 'Mean', 'Median',\n",
    "       'Variance', 'Tendency'])\n",
    "X = np.array(X)\n",
    "Y = np.array(ctg['NSP'])\n",
    "Y = Y.astype(int) # 정수형으로 변환 ,1.0=>1"
   ]
  },
  {
   "cell_type": "markdown",
   "metadata": {},
   "source": [
    "## CTG - Using SMOTE : recommand"
   ]
  },
  {
   "cell_type": "code",
   "execution_count": 27,
   "metadata": {
    "collapsed": true
   },
   "outputs": [],
   "source": [
    "sm = SMOTE(random_state=32130775) #: knn응용\n",
    "x_sm, y_sm = sm.fit_sample(X,Y) # fit_sample => 오버샘플링"
   ]
  },
  {
   "cell_type": "code",
   "execution_count": 28,
   "metadata": {
    "collapsed": true
   },
   "outputs": [],
   "source": [
    "tr_X, te_X, tr_Y, te_Y = train_test_split(x_sm, y_sm, test_size=0.33, random_state=32130775) \n",
    "#test_size => train : test = 2 : 1."
   ]
  },
  {
   "cell_type": "markdown",
   "metadata": {},
   "source": [
    "### CTG - NOT Using SMOTE : not recommand"
   ]
  },
  {
   "cell_type": "code",
   "execution_count": null,
   "metadata": {
    "collapsed": true
   },
   "outputs": [],
   "source": [
    "tr_ind = np.random.choice(int(2126 * 0.7)+1, int(2126 * 0.7),replace=False)  # same as sample function in R\n",
    "tr_X = X[tr_ind]\n",
    "te_X = X[-tr_ind]\n",
    "tr_Y = Y[tr_ind]\n",
    "te_Y = Y[-tr_ind]"
   ]
  },
  {
   "cell_type": "markdown",
   "metadata": {},
   "source": [
    "## CTG -- RBM classification"
   ]
  },
  {
   "cell_type": "code",
   "execution_count": 4,
   "metadata": {},
   "outputs": [
    {
     "ename": "NameError",
     "evalue": "name 'linear_model' is not defined",
     "output_type": "error",
     "traceback": [
      "\u001b[1;31m---------------------------------------------------------------------------\u001b[0m",
      "\u001b[1;31mNameError\u001b[0m                                 Traceback (most recent call last)",
      "\u001b[1;32m<ipython-input-4-38e4d2732219>\u001b[0m in \u001b[0;36m<module>\u001b[1;34m()\u001b[0m\n\u001b[1;32m----> 1\u001b[1;33m \u001b[0mlogistic\u001b[0m \u001b[1;33m=\u001b[0m \u001b[0mlinear_model\u001b[0m\u001b[1;33m.\u001b[0m\u001b[0mLogisticRegression\u001b[0m\u001b[1;33m(\u001b[0m\u001b[1;33m)\u001b[0m\u001b[1;33m\u001b[0m\u001b[0m\n\u001b[0m\u001b[0;32m      2\u001b[0m \u001b[0mrbm\u001b[0m \u001b[1;33m=\u001b[0m \u001b[0mRBM\u001b[0m\u001b[1;33m(\u001b[0m\u001b[0mrandom_state\u001b[0m\u001b[1;33m=\u001b[0m\u001b[1;36m32130775\u001b[0m\u001b[1;33m,\u001b[0m \u001b[0mverbose\u001b[0m\u001b[1;33m=\u001b[0m\u001b[1;32mTrue\u001b[0m\u001b[1;33m)\u001b[0m\u001b[1;33m\u001b[0m\u001b[0m\n\u001b[0;32m      3\u001b[0m \u001b[0mclassifier\u001b[0m \u001b[1;33m=\u001b[0m \u001b[0mPipeline\u001b[0m\u001b[1;33m(\u001b[0m\u001b[0msteps\u001b[0m\u001b[1;33m=\u001b[0m\u001b[1;33m[\u001b[0m\u001b[1;33m(\u001b[0m\u001b[1;34m'rbm'\u001b[0m\u001b[1;33m,\u001b[0m \u001b[0mrbm\u001b[0m\u001b[1;33m)\u001b[0m\u001b[1;33m,\u001b[0m \u001b[1;33m(\u001b[0m\u001b[1;34m'logistic'\u001b[0m\u001b[1;33m,\u001b[0m \u001b[0mlogistic\u001b[0m\u001b[1;33m)\u001b[0m\u001b[1;33m]\u001b[0m\u001b[1;33m)\u001b[0m\u001b[1;33m\u001b[0m\u001b[0m\n",
      "\u001b[1;31mNameError\u001b[0m: name 'linear_model' is not defined"
     ]
    }
   ],
   "source": [
    "logistic = linear_model.LogisticRegression()\n",
    "rbm = RBM(random_state=32130775, verbose=True)\n",
    "classifier = Pipeline(steps=[('rbm', rbm), ('logistic', logistic)])"
   ]
  },
  {
   "cell_type": "markdown",
   "metadata": {},
   "source": [
    "### rbm.momentum :0.7"
   ]
  },
  {
   "cell_type": "code",
   "execution_count": 41,
   "metadata": {},
   "outputs": [
    {
     "name": "stdout",
     "output_type": "stream",
     "text": [
      "[BernoulliRBM] Iteration 1, pseudo-likelihood = -399.70, time = 0.04s\n",
      "[BernoulliRBM] Iteration 2, pseudo-likelihood = -796.50, time = 0.06s\n",
      "[BernoulliRBM] Iteration 3, pseudo-likelihood = -1193.35, time = 0.04s\n",
      "[BernoulliRBM] Iteration 4, pseudo-likelihood = -1590.20, time = 0.04s\n",
      "[BernoulliRBM] Iteration 5, pseudo-likelihood = -1987.06, time = 0.04s\n",
      "[BernoulliRBM] Iteration 6, pseudo-likelihood = -2383.92, time = 0.05s\n",
      "[BernoulliRBM] Iteration 7, pseudo-likelihood = -2780.79, time = 0.05s\n",
      "[BernoulliRBM] Iteration 8, pseudo-likelihood = -3177.65, time = 0.04s\n",
      "[BernoulliRBM] Iteration 9, pseudo-likelihood = -3574.51, time = 0.04s\n",
      "[BernoulliRBM] Iteration 10, pseudo-likelihood = -3971.36, time = 0.04s\n",
      "[BernoulliRBM] Iteration 11, pseudo-likelihood = -4368.24, time = 0.04s\n",
      "[BernoulliRBM] Iteration 12, pseudo-likelihood = -4765.09, time = 0.05s\n",
      "[BernoulliRBM] Iteration 13, pseudo-likelihood = -5161.97, time = 0.04s\n",
      "[BernoulliRBM] Iteration 14, pseudo-likelihood = -5558.83, time = 0.04s\n",
      "[BernoulliRBM] Iteration 15, pseudo-likelihood = -5955.68, time = 0.04s\n",
      "[BernoulliRBM] Iteration 16, pseudo-likelihood = -6352.56, time = 0.04s\n",
      "[BernoulliRBM] Iteration 17, pseudo-likelihood = -6749.42, time = 0.05s\n",
      "[BernoulliRBM] Iteration 18, pseudo-likelihood = -7146.29, time = 0.04s\n",
      "[BernoulliRBM] Iteration 19, pseudo-likelihood = -7543.15, time = 0.04s\n",
      "[BernoulliRBM] Iteration 20, pseudo-likelihood = -7940.02, time = 0.04s\n",
      "Logistic regression using logistic RBM features:\n",
      "             precision    recall  f1-score   support\n",
      "\n",
      "          1       0.94      0.88      0.91       521\n",
      "          2       0.82      0.84      0.83       544\n",
      "          3       0.87      0.91      0.89       574\n",
      "\n",
      "avg / total       0.88      0.88      0.88      1639\n",
      "\n",
      "\n"
     ]
    }
   ],
   "source": [
    "rbm.learning_rate = 0.01\n",
    "rbm.n_iter = 20\n",
    "# More components tend to give better prediction performance, but larger\n",
    "# fitting time\n",
    "rbm.n_components = 7\n",
    "rbm.momentum=0.7\n",
    "logistic.C = 6000\n",
    "\n",
    "# Training RBM-Logistic Pipeline\n",
    "classifier.fit(tr_X, tr_Y)\n",
    "\n",
    "# Training Logistic regression\n",
    "logistic_classifier = linear_model.LogisticRegression(C=1000)\n",
    "logistic_classifier.fit(tr_X, tr_Y)\n",
    "\n",
    "# #############################################################################\n",
    "# Evaluation\n",
    "print(\"Logistic regression using logistic RBM features:\\n%s\\n\" % (\n",
    "    metrics.classification_report(te_Y,logistic_classifier.predict(te_X))))"
   ]
  },
  {
   "cell_type": "markdown",
   "metadata": {},
   "source": [
    "CTG DATA는 분류가 잘되는 것을 확인할 수 있다. SMOTE를 사용했을 때 CLASS 1,2,3에 대해 골고루 precision이 좋지만 SMOTE를 사용하지 않으면 AVG precision은 높지만 CLASS 2의 precision이 현저히 낮다.\n",
    "따라서 SMOTE를 사용하는 것이 좋아보인다."
   ]
  }
 ],
 "metadata": {
  "kernelspec": {
   "display_name": "Python 3",
   "language": "python",
   "name": "python3"
  },
  "language_info": {
   "codemirror_mode": {
    "name": "ipython",
    "version": 3
   },
   "file_extension": ".py",
   "mimetype": "text/x-python",
   "name": "python",
   "nbconvert_exporter": "python",
   "pygments_lexer": "ipython3",
   "version": "3.6.3"
  }
 },
 "nbformat": 4,
 "nbformat_minor": 2
}
